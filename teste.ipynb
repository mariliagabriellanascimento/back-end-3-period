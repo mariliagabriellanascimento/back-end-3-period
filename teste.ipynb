{
 "cells": [
  {
   "cell_type": "markdown",
   "metadata": {},
   "source": [
    "*EXPLICAÇÃO*\n",
    "\n",
    "O comando pip install --upgrade pip é utilizado para atualizar a ferramenta pip para a versão mais recente disponível.\n",
    "\n",
    "*O que acontece quando você executa esse comando?*\n",
    "*Verificação da versão atual:* O pip verifica a versão que você está utilizando atualmente.\n",
    "\n",
    "*Download da nova versão:* Se houver uma versão mais recente disponível, o pip faz o download dessa nova versão.\n",
    "\n",
    "*Instalação da nova versão:* A nova versão do pip é instalada, substituindo a versão antiga.\n",
    "\n",
    "*Por que atualizar o pip?*\n",
    "*Novos recursos:* Atualizações geralmente trazem novos recursos e melhorias.\n",
    "*Correções de bugs:* Versões mais novas costumam corrigir bugs e problemas de segurança.\n",
    "*Compatibilidade:* Manter o pip atualizado ajuda a garantir que ele funcione bem com pacotes mais recentes e suas dependências.\n",
    "Como usar\n",
    "Basta abrir o terminal ou o prompt de comando e executar:\n",
    "\n",
    "bash\n",
    "Copiar código\n",
    "pip install --upgrade pip\n",
    "*Resumo*\n",
    "O comando pip install --upgrade pip é uma maneira simples de garantir que você tenha a versão mais recente do gerenciador de pacotes Python, permitindo uma melhor experiência ao instalar e gerenciar bibliotecas."
   ]
  },
  {
   "cell_type": "code",
   "execution_count": 6,
   "metadata": {},
   "outputs": [
    {
     "name": "stdout",
     "output_type": "stream",
     "text": [
      "Defaulting to user installation because normal site-packages is not writeable\n",
      "Requirement already satisfied: pip in c:\\program files\\python312\\lib\\site-packages (23.2.1)\n",
      "Collecting pip\n",
      "  Obtaining dependency information for pip from https://files.pythonhosted.org/packages/ef/7d/500c9ad20238fcfcb4cb9243eede163594d7020ce87bd9610c9e02771876/pip-24.3.1-py3-none-any.whl.metadata\n",
      "  Downloading pip-24.3.1-py3-none-any.whl.metadata (3.7 kB)\n",
      "Downloading pip-24.3.1-py3-none-any.whl (1.8 MB)\n",
      "   ---------------------------------------- 0.0/1.8 MB ? eta -:--:--\n",
      "   ---------------------------------------- 0.0/1.8 MB ? eta -:--:--\n",
      "    --------------------------------------- 0.0/1.8 MB 330.3 kB/s eta 0:00:06\n",
      "   - -------------------------------------- 0.1/1.8 MB 491.5 kB/s eta 0:00:04\n",
      "   --- ------------------------------------ 0.2/1.8 MB 1.1 MB/s eta 0:00:02\n",
      "   --------- ------------------------------ 0.4/1.8 MB 1.9 MB/s eta 0:00:01\n",
      "   ------------ --------------------------- 0.6/1.8 MB 2.5 MB/s eta 0:00:01\n",
      "   ------------ --------------------------- 0.6/1.8 MB 2.5 MB/s eta 0:00:01\n",
      "   ------------ --------------------------- 0.6/1.8 MB 2.5 MB/s eta 0:00:01\n",
      "   ------------ --------------------------- 0.6/1.8 MB 2.5 MB/s eta 0:00:01\n",
      "   ------------- -------------------------- 0.6/1.8 MB 1.4 MB/s eta 0:00:01\n",
      "   -------------- ------------------------- 0.6/1.8 MB 1.4 MB/s eta 0:00:01\n",
      "   --------------- ------------------------ 0.7/1.8 MB 1.4 MB/s eta 0:00:01\n",
      "   ------------------ --------------------- 0.8/1.8 MB 1.5 MB/s eta 0:00:01\n",
      "   -------------------- ------------------- 0.9/1.8 MB 1.6 MB/s eta 0:00:01\n",
      "   ---------------------- ----------------- 1.0/1.8 MB 1.7 MB/s eta 0:00:01\n",
      "   ------------------------ --------------- 1.1/1.8 MB 1.7 MB/s eta 0:00:01\n",
      "   ------------------------- -------------- 1.2/1.8 MB 1.6 MB/s eta 0:00:01\n",
      "   ------------------------- -------------- 1.2/1.8 MB 1.6 MB/s eta 0:00:01\n",
      "   ------------------------- -------------- 1.2/1.8 MB 1.6 MB/s eta 0:00:01\n",
      "   ------------------------- -------------- 1.2/1.8 MB 1.6 MB/s eta 0:00:01\n",
      "   ------------------------- -------------- 1.2/1.8 MB 1.6 MB/s eta 0:00:01\n",
      "   ------------------------- -------------- 1.2/1.8 MB 1.6 MB/s eta 0:00:01\n",
      "   ------------------------- -------------- 1.2/1.8 MB 1.6 MB/s eta 0:00:01\n",
      "   ------------------------- -------------- 1.2/1.8 MB 1.6 MB/s eta 0:00:01\n",
      "   ------------------------- -------------- 1.2/1.8 MB 1.6 MB/s eta 0:00:01\n",
      "   ------------------------- -------------- 1.2/1.8 MB 1.6 MB/s eta 0:00:01\n",
      "   ------------------------- -------------- 1.2/1.8 MB 1.6 MB/s eta 0:00:01\n",
      "   ------------------------- -------------- 1.2/1.8 MB 1.6 MB/s eta 0:00:01\n",
      "   ------------------------- -------------- 1.2/1.8 MB 1.6 MB/s eta 0:00:01\n",
      "   ------------------------- -------------- 1.2/1.8 MB 1.6 MB/s eta 0:00:01\n",
      "   ------------------------- -------------- 1.2/1.8 MB 1.6 MB/s eta 0:00:01\n",
      "   ------------------------- -------------- 1.2/1.8 MB 861.6 kB/s eta 0:00:01\n",
      "   ------------------------- -------------- 1.2/1.8 MB 861.6 kB/s eta 0:00:01\n",
      "   -------------------------- ------------- 1.2/1.8 MB 840.9 kB/s eta 0:00:01\n",
      "   ---------------------------- ----------- 1.3/1.8 MB 836.1 kB/s eta 0:00:01\n",
      "   ------------------------------ --------- 1.4/1.8 MB 882.5 kB/s eta 0:00:01\n",
      "   --------------------------------- ------ 1.5/1.8 MB 954.6 kB/s eta 0:00:01\n",
      "   ---------------------------------------  1.8/1.8 MB 1.1 MB/s eta 0:00:01\n",
      "   ---------------------------------------  1.8/1.8 MB 1.1 MB/s eta 0:00:01\n",
      "   ---------------------------------------  1.8/1.8 MB 1.1 MB/s eta 0:00:01\n",
      "   ---------------------------------------  1.8/1.8 MB 1.1 MB/s eta 0:00:01\n",
      "   ---------------------------------------  1.8/1.8 MB 1.1 MB/s eta 0:00:01\n",
      "   ---------------------------------------  1.8/1.8 MB 1.1 MB/s eta 0:00:01\n",
      "   ---------------------------------------  1.8/1.8 MB 1.1 MB/s eta 0:00:01\n",
      "   ---------------------------------------  1.8/1.8 MB 1.1 MB/s eta 0:00:01\n",
      "   ---------------------------------------  1.8/1.8 MB 1.1 MB/s eta 0:00:01\n",
      "   ---------------------------------------  1.8/1.8 MB 1.1 MB/s eta 0:00:01\n",
      "   ---------------------------------------  1.8/1.8 MB 1.1 MB/s eta 0:00:01\n",
      "   ---------------------------------------  1.8/1.8 MB 1.1 MB/s eta 0:00:01\n",
      "   ---------------------------------------  1.8/1.8 MB 1.1 MB/s eta 0:00:01\n",
      "   ---------------------------------------  1.8/1.8 MB 1.1 MB/s eta 0:00:01\n",
      "   ---------------------------------------  1.8/1.8 MB 1.1 MB/s eta 0:00:01\n",
      "   ---------------------------------------  1.8/1.8 MB 1.1 MB/s eta 0:00:01\n",
      "   ---------------------------------------  1.8/1.8 MB 1.1 MB/s eta 0:00:01\n",
      "   ---------------------------------------  1.8/1.8 MB 1.1 MB/s eta 0:00:01\n",
      "   ---------------------------------------  1.8/1.8 MB 1.1 MB/s eta 0:00:01\n",
      "   ---------------------------------------  1.8/1.8 MB 739.5 kB/s eta 0:00:01\n",
      "   ---------------------------------------  1.8/1.8 MB 739.5 kB/s eta 0:00:01\n",
      "   ---------------------------------------- 1.8/1.8 MB 715.9 kB/s eta 0:00:00\n",
      "Installing collected packages: pip\n",
      "Successfully installed pip-24.3.1\n",
      "Note: you may need to restart the kernel to use updated packages.\n"
     ]
    }
   ],
   "source": [
    "pip install --upgrade pip"
   ]
  },
  {
   "cell_type": "markdown",
   "metadata": {},
   "source": [
    "*EXPLICAÇÃO*\n",
    "\n",
    "O comando pip install mysql-connector é utilizado para instalar a biblioteca mysql-connector-python, que permite que você se conecte e interaja com um banco de dados MySQL a partir de um script Python.\n",
    "\n",
    "*O que acontece quando você executa esse comando?*\n",
    "*Instalação da biblioteca:* O pip (Python Package Installer) baixa e instala a biblioteca mysql-connector-python do repositório oficial do Python (PyPI).\n",
    "\n",
    "*Dependências:* O pip também cuida de instalar qualquer dependência necessária para que a biblioteca funcione corretamente.\n",
    "\n",
    "Uso em seu código: Após a instalação, você pode importar a biblioteca em seus scripts Python, permitindo que você faça operações como conectar-se ao banco de dados, executar consultas, manipular dados, etc.\n",
    "\n",
    "Exemplo de uso após instalação\n",
    "Depois de instalar, você pode usar a biblioteca da seguinte forma:\n",
    "\n",
    "python\n",
    "Copiar código\n",
    "import mysql.connector\n",
    "\n",
    "# Conectar ao banco de dados\n",
    "conexao = mysql.connector.connect(\n",
    "    host=\"localhost\",\n",
    "    user=\"root\",\n",
    "    password=\"\"\n",
    ")\n",
    "\n",
    "# Criar um cursor\n",
    "cursor = conexao.cursor()\n",
    "\n",
    "# Executar um comando\n",
    "cursor.execute(\"SHOW DATABASES\")\n",
    "\n",
    "# Exibir os resultados\n",
    "for banco in cursor:\n",
    "    print(banco)\n",
    "\n",
    "# Fechar a conexão\n",
    "cursor.close()\n",
    "conexao.close()\n",
    "*Resumo*\n",
    "Usar pip install mysql-connector é o primeiro passo para utilizar a biblioteca que facilita a interação com bancos de dados MySQL em Python. É importante garantir que o MySQL esteja instalado e em funcionamento no seu sistema para que a conexão funcione corretamente."
   ]
  },
  {
   "cell_type": "code",
   "execution_count": 8,
   "metadata": {},
   "outputs": [
    {
     "name": "stdout",
     "output_type": "stream",
     "text": [
      "Defaulting to user installation because normal site-packages is not writeableNote: you may need to restart the kernel to use updated packages.\n",
      "\n",
      "Collecting mysql-connector\n",
      "  Downloading mysql-connector-2.2.9.tar.gz (11.9 MB)\n",
      "     ---------------------------------------- 0.0/11.9 MB ? eta -:--:--\n",
      "     - -------------------------------------- 0.5/11.9 MB 5.6 MB/s eta 0:00:03\n",
      "     - -------------------------------------- 0.5/11.9 MB 5.6 MB/s eta 0:00:03\n",
      "     - -------------------------------------- 0.5/11.9 MB 5.6 MB/s eta 0:00:03\n",
      "     - -------------------------------------- 0.5/11.9 MB 5.6 MB/s eta 0:00:03\n",
      "     - -------------------------------------- 0.5/11.9 MB 5.6 MB/s eta 0:00:03\n",
      "     - -------------------------------------- 0.5/11.9 MB 5.6 MB/s eta 0:00:03\n",
      "     --- ----------------------------------- 1.0/11.9 MB 606.3 kB/s eta 0:00:18\n",
      "     --- ----------------------------------- 1.0/11.9 MB 606.3 kB/s eta 0:00:18\n",
      "     --- ----------------------------------- 1.0/11.9 MB 606.3 kB/s eta 0:00:18\n",
      "     ------ -------------------------------- 1.8/11.9 MB 805.4 kB/s eta 0:00:13\n",
      "     ------ -------------------------------- 1.8/11.9 MB 805.4 kB/s eta 0:00:13\n",
      "     ------ -------------------------------- 1.8/11.9 MB 805.4 kB/s eta 0:00:13\n",
      "     ------ -------------------------------- 1.8/11.9 MB 805.4 kB/s eta 0:00:13\n",
      "     ------ -------------------------------- 2.1/11.9 MB 682.7 kB/s eta 0:00:15\n",
      "     -------- ------------------------------ 2.6/11.9 MB 803.0 kB/s eta 0:00:12\n",
      "     -------- ------------------------------ 2.6/11.9 MB 803.0 kB/s eta 0:00:12\n",
      "     -------- ------------------------------ 2.6/11.9 MB 803.0 kB/s eta 0:00:12\n",
      "     -------- ------------------------------ 2.6/11.9 MB 803.0 kB/s eta 0:00:12\n",
      "     --------- ----------------------------- 2.9/11.9 MB 693.1 kB/s eta 0:00:13\n",
      "     ---------- ---------------------------- 3.1/11.9 MB 720.9 kB/s eta 0:00:13\n",
      "     ----------- --------------------------- 3.4/11.9 MB 759.7 kB/s eta 0:00:12\n",
      "     ----------- --------------------------- 3.4/11.9 MB 759.7 kB/s eta 0:00:12\n",
      "     ------------ -------------------------- 3.7/11.9 MB 754.6 kB/s eta 0:00:11\n",
      "     ------------- ------------------------- 4.2/11.9 MB 817.0 kB/s eta 0:00:10\n",
      "     ------------- ------------------------- 4.2/11.9 MB 817.0 kB/s eta 0:00:10\n",
      "     --------------- ----------------------- 4.7/11.9 MB 861.6 kB/s eta 0:00:09\n",
      "     --------------- ----------------------- 4.7/11.9 MB 861.6 kB/s eta 0:00:09\n",
      "     --------------- ----------------------- 4.7/11.9 MB 861.6 kB/s eta 0:00:09\n",
      "     --------------- ----------------------- 4.7/11.9 MB 861.6 kB/s eta 0:00:09\n",
      "     ---------------- ---------------------- 5.0/11.9 MB 780.3 kB/s eta 0:00:09\n",
      "     ------------------ -------------------- 5.5/11.9 MB 832.6 kB/s eta 0:00:08\n",
      "     ------------------ -------------------- 5.5/11.9 MB 832.6 kB/s eta 0:00:08\n",
      "     ------------------ -------------------- 5.5/11.9 MB 832.6 kB/s eta 0:00:08\n",
      "     ------------------ -------------------- 5.5/11.9 MB 832.6 kB/s eta 0:00:08\n",
      "     ------------------ -------------------- 5.8/11.9 MB 781.2 kB/s eta 0:00:08\n",
      "     ------------------- ------------------- 6.0/11.9 MB 783.6 kB/s eta 0:00:08\n",
      "     -------------------- ------------------ 6.3/11.9 MB 795.6 kB/s eta 0:00:07\n",
      "     --------------------- ----------------- 6.6/11.9 MB 810.1 kB/s eta 0:00:07\n",
      "     --------------------- ----------------- 6.6/11.9 MB 810.1 kB/s eta 0:00:07\n",
      "     --------------------- ----------------- 6.6/11.9 MB 810.1 kB/s eta 0:00:07\n",
      "     --------------------- ----------------- 6.6/11.9 MB 810.1 kB/s eta 0:00:07\n",
      "     ---------------------- ---------------- 6.8/11.9 MB 776.7 kB/s eta 0:00:07\n",
      "     ----------------------- --------------- 7.1/11.9 MB 784.5 kB/s eta 0:00:07\n",
      "     ------------------------ -------------- 7.3/11.9 MB 793.3 kB/s eta 0:00:06\n",
      "     ------------------------- ------------- 7.6/11.9 MB 803.0 kB/s eta 0:00:06\n",
      "     ------------------------- ------------- 7.9/11.9 MB 813.6 kB/s eta 0:00:05\n",
      "     ------------------------- ------------- 7.9/11.9 MB 813.6 kB/s eta 0:00:05\n",
      "     -------------------------- ------------ 8.1/11.9 MB 811.8 kB/s eta 0:00:05\n",
      "     --------------------------- ----------- 8.4/11.9 MB 817.7 kB/s eta 0:00:05\n",
      "     ---------------------------- ---------- 8.7/11.9 MB 824.7 kB/s eta 0:00:04\n",
      "     ----------------------------- --------- 8.9/11.9 MB 832.5 kB/s eta 0:00:04\n",
      "     ------------------------------ -------- 9.2/11.9 MB 840.0 kB/s eta 0:00:04\n",
      "     ------------------------------- ------- 9.4/11.9 MB 849.8 kB/s eta 0:00:03\n",
      "     ------------------------------- ------- 9.4/11.9 MB 849.8 kB/s eta 0:00:03\n",
      "     ------------------------------- ------- 9.4/11.9 MB 849.8 kB/s eta 0:00:03\n",
      "     ------------------------------- ------- 9.7/11.9 MB 834.2 kB/s eta 0:00:03\n",
      "     ------------------------------- ------ 10.0/11.9 MB 833.2 kB/s eta 0:00:03\n",
      "     -------------------------------- ----- 10.2/11.9 MB 839.9 kB/s eta 0:00:02\n",
      "     --------------------------------- ---- 10.5/11.9 MB 846.5 kB/s eta 0:00:02\n",
      "     ---------------------------------- --- 10.7/11.9 MB 852.7 kB/s eta 0:00:02\n",
      "     ----------------------------------- -- 11.0/11.9 MB 860.9 kB/s eta 0:00:01\n",
      "     ----------------------------------- -- 11.0/11.9 MB 860.9 kB/s eta 0:00:01\n",
      "     ----------------------------------- -- 11.0/11.9 MB 860.9 kB/s eta 0:00:01\n",
      "     ------------------------------------ - 11.3/11.9 MB 839.8 kB/s eta 0:00:01\n",
      "     ------------------------------------ - 11.5/11.9 MB 844.7 kB/s eta 0:00:01\n",
      "     -------------------------------------  11.8/11.9 MB 849.5 kB/s eta 0:00:01\n",
      "     -------------------------------------- 11.9/11.9 MB 850.7 kB/s eta 0:00:00\n",
      "  Installing build dependencies: started\n",
      "  Installing build dependencies: finished with status 'done'\n",
      "  Getting requirements to build wheel: started\n",
      "  Getting requirements to build wheel: finished with status 'done'\n",
      "  Preparing metadata (pyproject.toml): started\n",
      "  Preparing metadata (pyproject.toml): finished with status 'done'\n",
      "Building wheels for collected packages: mysql-connector\n",
      "  Building wheel for mysql-connector (pyproject.toml): started\n",
      "  Building wheel for mysql-connector (pyproject.toml): finished with status 'done'\n",
      "  Created wheel for mysql-connector: filename=mysql_connector-2.2.9-cp312-cp312-win_amd64.whl size=247973 sha256=a10c0480c6310436c5b3fe94684d8bb4dcbd3ead130c8737533b117cbb11f9a0\n",
      "  Stored in directory: c:\\users\\1232303485\\appdata\\local\\pip\\cache\\wheels\\03\\17\\fa\\d7604c72dd3dd6d3eb3d249abf36cc532c9a9b4354b8f1bc4f\n",
      "Successfully built mysql-connector\n",
      "Installing collected packages: mysql-connector\n",
      "Successfully installed mysql-connector-2.2.9\n"
     ]
    }
   ],
   "source": [
    "pip install mysql-connector"
   ]
  },
  {
   "cell_type": "markdown",
   "metadata": {},
   "source": [
    "*EXPLICAÇÃO*\n",
    "\n",
    "*Importação do módulo:* O código começa importando a biblioteca mysql.connector, que é usada para conectar-se a um banco de dados MySQL.\n",
    "\n",
    "*Estabelecendo a conexão:*\n",
    "\n",
    "python\n",
    "Copiar código\n",
    "minha_conexao_mysql = mysql.connector.connect(\n",
    "    host=\"localhost\",\n",
    "    user=\"root\",\n",
    "    password=\"\",\n",
    ")\n",
    "*Aqui, você está criando uma conexão com o servidor MySQL. Os parâmetros especificados são:*\n",
    "\n",
    "*host:* O endereço do servidor MySQL (neste caso, localhost, que significa que o banco de dados está rodando na mesma máquina).\n",
    "*user:* O nome do usuário que está tentando se conectar (neste caso, root).\n",
    "*password:* A senha do usuário (aqui está vazia, o que significa que o usuário root não tem senha).\n",
    "*Criando um cursor:*\n",
    "\n",
    "python\n",
    "Copiar código\n",
    "meu_cursor = minha_conexao_mysql.cursor()\n",
    "Um cursor é um objeto que permite executar comandos SQL e interagir com o banco de dados. Neste caso, você está criando um cursor a partir da conexão estabelecida.\n",
    "\n",
    "*Executando um comando SQL:*\n",
    "\n",
    "python\n",
    "Copiar código\n",
    "meu_cursor.execute(\"SHOW DATABASES\")\n",
    "Este comando SQL SHOW DATABASES é usado para listar todos os bancos de dados disponíveis no servidor MySQL.\n",
    "\n",
    "*Iterando sobre os resultados:*\n",
    "\n",
    "python\n",
    "Copiar código\n",
    "for z in meu_cursor:\n",
    "    print(z)\n",
    "Aqui, você está iterando sobre os resultados do comando executado. Cada z representa um banco de dados encontrado, e o print(z) imprime cada um deles.\n",
    "\n",
    "*Resumo:*\n",
    "O código conecta-se a um servidor MySQL, executa um comando para listar todos os bancos de dados e imprime cada um deles. Se você rodar esse código em um ambiente onde o MySQL está configurado corretamente, verá a lista de bancos de dados disponíveis."
   ]
  },
  {
   "cell_type": "code",
   "execution_count": 40,
   "metadata": {},
   "outputs": [
    {
     "name": "stdout",
     "output_type": "stream",
     "text": [
      "('aula1',)\n",
      "('aula2',)\n",
      "('aula3',)\n",
      "('aula4',)\n",
      "('aulabackenddb2',)\n",
      "('information_schema',)\n",
      "('mysql',)\n",
      "('performance_schema',)\n",
      "('phpmyadmin',)\n",
      "('test',)\n",
      "('teste2',)\n",
      "('teste3',)\n"
     ]
    }
   ],
   "source": [
    "import mysql.connector\n",
    "\n",
    "minha_conexao_mysql = mysql.connector.connect(\n",
    "    host=\"localhost\",\n",
    "    user=\"root\",\n",
    "    password=\"\",\n",
    ")\n",
    "meu_cursor = minha_conexao_mysql.cursor()\n",
    "meu_cursor.execute(\"SHOW DATABASES\")\n",
    "\n",
    "for z in meu_cursor:\n",
    "    print(z)"
   ]
  },
  {
   "cell_type": "markdown",
   "metadata": {},
   "source": [
    "*EXPLICAÇÃO*\n",
    "\n",
    "criando banco de dados"
   ]
  },
  {
   "cell_type": "code",
   "execution_count": 12,
   "metadata": {},
   "outputs": [],
   "source": [
    "meu_cursor.execute(\"CREATE DATABASE aulabackenddb2\")"
   ]
  },
  {
   "cell_type": "markdown",
   "metadata": {},
   "source": [
    "*EXPLICAÇÃO*\n",
    "\n",
    "criando mais 4 banco de dados"
   ]
  },
  {
   "cell_type": "code",
   "execution_count": 13,
   "metadata": {},
   "outputs": [],
   "source": [
    "meu_cursor.execute(\"CREATE DATABASE aula1\")\n",
    "meu_cursor.execute(\"CREATE DATABASE aula2\")\n",
    "meu_cursor.execute(\"CREATE DATABASE aula3\")\n",
    "meu_cursor.execute(\"CREATE DATABASE aula4\")"
   ]
  },
  {
   "cell_type": "markdown",
   "metadata": {},
   "source": [
    "*EXPLICAÇÃO*\n",
    "\n",
    "acessando banco de dados"
   ]
  },
  {
   "cell_type": "code",
   "execution_count": 41,
   "metadata": {},
   "outputs": [],
   "source": [
    "meu_cursor.execute(\"USE aulabackenddb2\")"
   ]
  },
  {
   "cell_type": "markdown",
   "metadata": {},
   "source": [
    "*EXPLICAÇÃO*\n",
    "\n",
    "criando tabela"
   ]
  },
  {
   "cell_type": "code",
   "execution_count": 16,
   "metadata": {},
   "outputs": [],
   "source": [
    "meu_cursor.execute(\"CREATE TABLE dados_pessoais (nome VARCHAR(255), endereco VARCHAR(255))\")"
   ]
  },
  {
   "cell_type": "markdown",
   "metadata": {},
   "source": [
    "*EXPLICAÇÃO*\n",
    "\n",
    "mostrar tabela"
   ]
  },
  {
   "cell_type": "code",
   "execution_count": 35,
   "metadata": {},
   "outputs": [
    {
     "name": "stdout",
     "output_type": "stream",
     "text": [
      "('dados_pessoais',)\n"
     ]
    }
   ],
   "source": [
    "meu_cursor.execute(\"SHOW TABLES\")\n",
    "for z in meu_cursor:\n",
    "    print(z)"
   ]
  },
  {
   "cell_type": "markdown",
   "metadata": {},
   "source": [
    "*EXPLICAÇÃO*\n",
    "\n",
    "criando tabala com chave primária"
   ]
  },
  {
   "cell_type": "code",
   "execution_count": 36,
   "metadata": {},
   "outputs": [],
   "source": [
    "meu_cursor.execute(\"CREATE TABLE dados_pessoais_2 (id INT AUTO_INCREMENT PRIMARY KEY, nome VARCHAR(255), endereco VARCHAR(255))\")"
   ]
  },
  {
   "cell_type": "markdown",
   "metadata": {},
   "source": [
    "*EXPLICAÇÃO*\n",
    "\n",
    "alterar tabela adcionando coluna"
   ]
  },
  {
   "cell_type": "code",
   "execution_count": 49,
   "metadata": {},
   "outputs": [],
   "source": [
    "meu_cursor.execute(\"ALTER TABLE dados_pessoais ADD COLUMN cpf VARCHAR(11)\")"
   ]
  },
  {
   "cell_type": "markdown",
   "metadata": {},
   "source": [
    "*EXPLICAÇÃO*\n",
    "\n",
    "alterar tabela adcionando chave primaria"
   ]
  },
  {
   "cell_type": "code",
   "execution_count": 50,
   "metadata": {},
   "outputs": [
    {
     "ename": "IntegrityError",
     "evalue": "1062 (23000): Duplicate entry '' for key 'PRIMARY'",
     "output_type": "error",
     "traceback": [
      "\u001b[1;31m---------------------------------------------------------------------------\u001b[0m",
      "\u001b[1;31mIntegrityError\u001b[0m                            Traceback (most recent call last)",
      "Cell \u001b[1;32mIn[50], line 1\u001b[0m\n\u001b[1;32m----> 1\u001b[0m \u001b[43mmeu_cursor\u001b[49m\u001b[38;5;241;43m.\u001b[39;49m\u001b[43mexecute\u001b[49m\u001b[43m(\u001b[49m\u001b[38;5;124;43m\"\u001b[39;49m\u001b[38;5;124;43mALTER TABLE dados_pessoais ADD PRIMARY KEY (cpf)\u001b[39;49m\u001b[38;5;124;43m\"\u001b[39;49m\u001b[43m)\u001b[49m\n",
      "File \u001b[1;32m~\\AppData\\Roaming\\Python\\Python312\\site-packages\\mysql\\connector\\cursor.py:551\u001b[0m, in \u001b[0;36mMySQLCursor.execute\u001b[1;34m(self, operation, params, multi)\u001b[0m\n\u001b[0;32m    549\u001b[0m \u001b[38;5;28;01melse\u001b[39;00m:\n\u001b[0;32m    550\u001b[0m     \u001b[38;5;28;01mtry\u001b[39;00m:\n\u001b[1;32m--> 551\u001b[0m         \u001b[38;5;28mself\u001b[39m\u001b[38;5;241m.\u001b[39m_handle_result(\u001b[38;5;28;43mself\u001b[39;49m\u001b[38;5;241;43m.\u001b[39;49m\u001b[43m_connection\u001b[49m\u001b[38;5;241;43m.\u001b[39;49m\u001b[43mcmd_query\u001b[49m\u001b[43m(\u001b[49m\u001b[43mstmt\u001b[49m\u001b[43m)\u001b[49m)\n\u001b[0;32m    552\u001b[0m     \u001b[38;5;28;01mexcept\u001b[39;00m errors\u001b[38;5;241m.\u001b[39mInterfaceError:\n\u001b[0;32m    553\u001b[0m         \u001b[38;5;28;01mif\u001b[39;00m \u001b[38;5;28mself\u001b[39m\u001b[38;5;241m.\u001b[39m_connection\u001b[38;5;241m.\u001b[39m_have_next_result:  \u001b[38;5;66;03m# pylint: disable=W0212\u001b[39;00m\n",
      "File \u001b[1;32m~\\AppData\\Roaming\\Python\\Python312\\site-packages\\mysql\\connector\\connection.py:490\u001b[0m, in \u001b[0;36mMySQLConnection.cmd_query\u001b[1;34m(self, query, raw, buffered, raw_as_string)\u001b[0m\n\u001b[0;32m    488\u001b[0m \u001b[38;5;28;01mif\u001b[39;00m \u001b[38;5;129;01mnot\u001b[39;00m \u001b[38;5;28misinstance\u001b[39m(query, \u001b[38;5;28mbytes\u001b[39m):\n\u001b[0;32m    489\u001b[0m     query \u001b[38;5;241m=\u001b[39m query\u001b[38;5;241m.\u001b[39mencode(\u001b[38;5;124m'\u001b[39m\u001b[38;5;124mutf-8\u001b[39m\u001b[38;5;124m'\u001b[39m)\n\u001b[1;32m--> 490\u001b[0m result \u001b[38;5;241m=\u001b[39m \u001b[38;5;28;43mself\u001b[39;49m\u001b[38;5;241;43m.\u001b[39;49m\u001b[43m_handle_result\u001b[49m\u001b[43m(\u001b[49m\u001b[38;5;28;43mself\u001b[39;49m\u001b[38;5;241;43m.\u001b[39;49m\u001b[43m_send_cmd\u001b[49m\u001b[43m(\u001b[49m\u001b[43mServerCmd\u001b[49m\u001b[38;5;241;43m.\u001b[39;49m\u001b[43mQUERY\u001b[49m\u001b[43m,\u001b[49m\u001b[43m \u001b[49m\u001b[43mquery\u001b[49m\u001b[43m)\u001b[49m\u001b[43m)\u001b[49m\n\u001b[0;32m    492\u001b[0m \u001b[38;5;28;01mif\u001b[39;00m \u001b[38;5;28mself\u001b[39m\u001b[38;5;241m.\u001b[39m_have_next_result:\n\u001b[0;32m    493\u001b[0m     \u001b[38;5;28;01mraise\u001b[39;00m errors\u001b[38;5;241m.\u001b[39mInterfaceError(\n\u001b[0;32m    494\u001b[0m         \u001b[38;5;124m'\u001b[39m\u001b[38;5;124mUse cmd_query_iter for statements with multiple queries.\u001b[39m\u001b[38;5;124m'\u001b[39m)\n",
      "File \u001b[1;32m~\\AppData\\Roaming\\Python\\Python312\\site-packages\\mysql\\connector\\connection.py:395\u001b[0m, in \u001b[0;36mMySQLConnection._handle_result\u001b[1;34m(self, packet)\u001b[0m\n\u001b[0;32m    393\u001b[0m     \u001b[38;5;28;01mreturn\u001b[39;00m \u001b[38;5;28mself\u001b[39m\u001b[38;5;241m.\u001b[39m_handle_eof(packet)\n\u001b[0;32m    394\u001b[0m \u001b[38;5;28;01melif\u001b[39;00m packet[\u001b[38;5;241m4\u001b[39m] \u001b[38;5;241m==\u001b[39m \u001b[38;5;241m255\u001b[39m:\n\u001b[1;32m--> 395\u001b[0m     \u001b[38;5;28;01mraise\u001b[39;00m errors\u001b[38;5;241m.\u001b[39mget_exception(packet)\n\u001b[0;32m    397\u001b[0m \u001b[38;5;66;03m# We have a text result set\u001b[39;00m\n\u001b[0;32m    398\u001b[0m column_count \u001b[38;5;241m=\u001b[39m \u001b[38;5;28mself\u001b[39m\u001b[38;5;241m.\u001b[39m_protocol\u001b[38;5;241m.\u001b[39mparse_column_count(packet)\n",
      "\u001b[1;31mIntegrityError\u001b[0m: 1062 (23000): Duplicate entry '' for key 'PRIMARY'"
     ]
    }
   ],
   "source": [
    "meu_cursor.execute(\"ALTER TABLE dados_pessoais ADD PRIMARY KEY (cpf)\")"
   ]
  },
  {
   "cell_type": "markdown",
   "metadata": {},
   "source": [
    "*EXPLICAÇÃO*\n",
    "\n"
   ]
  },
  {
   "cell_type": "code",
   "execution_count": 38,
   "metadata": {},
   "outputs": [],
   "source": [
    "sql = \"INSERT INTO dados_pessoais (nome, endereco) VALUES (%s, %s)\"\n",
    "valor = (\"Marilia Gabriella do Nascimento Barbosa\", \"Rua do Machado\")\n",
    "meu_cursor.execute(sql, valor)"
   ]
  },
  {
   "cell_type": "code",
   "execution_count": null,
   "metadata": {},
   "outputs": [],
   "source": [
    "# sql = \"INSERT INTO dados_pessoais_2 (id, nome, endereco) VALUES (%s, %s, %s)\"\n",
    "# valor = (\"Marilia Gabriella do Nascimento Barbosa\", \"Rua do Machado\")\n",
    "# meu_cursor.execute(sql, valor)"
   ]
  },
  {
   "cell_type": "markdown",
   "metadata": {},
   "source": [
    "*EXPLICAÇÃO*\n",
    "\n"
   ]
  },
  {
   "cell_type": "code",
   "execution_count": 39,
   "metadata": {},
   "outputs": [
    {
     "name": "stdout",
     "output_type": "stream",
     "text": [
      "1 nossa linha foi inserida\n"
     ]
    }
   ],
   "source": [
    "minha_conexao_mysql.commit()\n",
    "print(meu_cursor.rowcount, \"nossa linha foi inserida\")"
   ]
  },
  {
   "cell_type": "markdown",
   "metadata": {},
   "source": [
    "*EXPLICAÇÃO*"
   ]
  },
  {
   "cell_type": "code",
   "execution_count": null,
   "metadata": {},
   "outputs": [],
   "source": [
    "valor = (\"Fernando Alves\", \"Avenida do Mar\")\n",
    "meu_cursor.execute(sql, valor)"
   ]
  },
  {
   "cell_type": "code",
   "execution_count": 45,
   "metadata": {},
   "outputs": [],
   "source": [
    "valor = (\"Ana Clara da Silva\", \"Avenida das Flores\")\n",
    "meu_cursor.execute(sql, valor)\n",
    "valor = (\"Carlos Eduardo Santos\", \"Rua das Palmeiras\")\n",
    "meu_cursor.execute(sql, valor)\n",
    "valor = (\"Fernanda Oliveira\", \"Travessa da Luz\")\n",
    "meu_cursor.execute(sql, valor)\n",
    "valor = (\"Ricardo Lima\", \"Rua do Sol\")\n",
    "meu_cursor.execute(sql, valor)\n",
    "valor = (\"Juliana Costa\", \"Avenida Central\")\n",
    "meu_cursor.execute(sql, valor)\n",
    "valor = (\"Mateus Pereira\", \"Rua da Liberdade\")\n",
    "meu_cursor.execute(sql, valor)\n",
    "valor = (\"Sofia Martins\", \"Avenida da Esperança\")\n",
    "meu_cursor.execute(sql, valor)\n",
    "valor = (\"Gabriel Almeida\", \"Rua Nova\")\n",
    "meu_cursor.execute(sql, valor)\n",
    "valor = (\"Isabela Ferreira\", \"Avenida dos Lírios\")\n",
    "meu_cursor.execute(sql, valor)\n",
    "valor = (\"Lucas Rocha\", \"Rua das Orquídeas\")\n",
    "meu_cursor.execute(sql, valor)\n",
    "valor = (\"Mariana Santos\", \"Praça das Águas\")\n",
    "meu_cursor.execute(sql, valor)\n",
    "valor = (\"Thiago Mendes\", \"Rua do Campo\")\n",
    "meu_cursor.execute(sql, valor)\n",
    "valor = (\"Clara Moreira\", \"Avenida do Pôr do Sol\")\n",
    "meu_cursor.execute(sql, valor)\n",
    "valor = (\"Eduardo Dias\", \"Rua das Estrelas\")\n",
    "meu_cursor.execute(sql, valor)\n",
    "valor = (\"Lívia Torres\", \"Rua Verde\")\n",
    "meu_cursor.execute(sql, valor)\n",
    "valor = (\"Henrique Gomes\", \"Avenida do Futuro\")\n",
    "meu_cursor.execute(sql, valor)\n",
    "valor = (\"Patrícia Ribeiro\", \"Rua das Acácias\")\n",
    "meu_cursor.execute(sql, valor)\n",
    "valor = (\"Vinícius Martins\", \"Avenida dos Girassóis\")\n",
    "meu_cursor.execute(sql, valor)\n",
    "valor = (\"Larissa Souza\", \"Rua do Horizonte\")\n",
    "meu_cursor.execute(sql, valor)\n",
    "\n"
   ]
  },
  {
   "cell_type": "markdown",
   "metadata": {},
   "source": [
    "*EXPLICAÇÃO*"
   ]
  },
  {
   "cell_type": "code",
   "execution_count": 44,
   "metadata": {},
   "outputs": [
    {
     "name": "stdout",
     "output_type": "stream",
     "text": [
      "1 varias linhas adcionadas\n"
     ]
    }
   ],
   "source": [
    "minha_conexao_mysql.commit()\n",
    "print(meu_cursor.rowcount, \"varias linhas adcionadas\")"
   ]
  },
  {
   "cell_type": "code",
   "execution_count": 46,
   "metadata": {},
   "outputs": [
    {
     "name": "stdout",
     "output_type": "stream",
     "text": [
      "1 19 linhas adcionadas\n"
     ]
    }
   ],
   "source": [
    "minha_conexao_mysql.commit()\n",
    "print(meu_cursor.rowcount, \"19 linhas adcionadas\")"
   ]
  },
  {
   "cell_type": "markdown",
   "metadata": {},
   "source": [
    "*EXPLICAÇÃO*\n",
    "\n",
    "varios num mesmo valor"
   ]
  },
  {
   "cell_type": "code",
   "execution_count": 47,
   "metadata": {},
   "outputs": [],
   "source": [
    "sql = \"INSERT INTO dados_pessoais (nome, endereco) VALUES (%s, %s)\"\n",
    "valores = [\n",
    "    (\"Beatriz Andrade\", \"Rua dos Sabiás\"),\n",
    "    (\"Roberto Carvalho\", \"Avenida dos Jacarandás\"),\n",
    "    (\"Julio César\", \"Rua dos Pinheiros\"),\n",
    "    (\"Ana Beatriz\", \"Rua das Flores\"),\n",
    "    (\"Marcio Silva\", \"Avenida do Coração\"),\n",
    "    (\"Gustavo Ferreira\", \"Rua da Serra\"),\n",
    "    (\"Rafaela Lima\", \"Praça da Amizade\"),\n",
    "    (\"Pedro Paulo\", \"Rua do Sol Nascente\"),\n",
    "    (\"Catarina Martins\", \"Avenida da Paz\"),\n",
    "    (\"Sérgio Mendes\", \"Rua da Alegria\"),\n",
    "    (\"Valentina Costa\", \"Rua das Orquídeas\"),\n",
    "    (\"Daniel Almeida\", \"Avenida do Amor\"),\n",
    "    (\"Tatiane Santos\", \"Rua do Bosque\"),\n",
    "    (\"Fábio Oliveira\", \"Avenida do Sol\"),\n",
    "    (\"Mariana Ribeiro\", \"Rua das Palmeiras\"),\n",
    "    (\"Luan Santos\", \"Rua da Lua\"),\n",
    "    (\"Tiago Moreira\", \"Avenida da Vitória\"),\n",
    "    (\"Natália Costa\", \"Rua da Esperança\"),\n",
    "    (\"Jorge Lima\", \"Avenida dos Pássaros\"),\n",
    "    (\"Amanda Torres\", \"Rua da Independência\"),\n",
    "    (\"Felipe Rocha\", \"Avenida dos Anjos\"),\n",
    "    (\"Cristina Mendes\", \"Rua do Comércio\"),\n",
    "    (\"Fernando Cardoso\", \"Avenida dos Carvalhos\"),\n",
    "    (\"Larissa Dias\", \"Rua da Colina\"),\n",
    "    (\"Cecília Almeida\", \"Avenida do Verde\"),\n",
    "    (\"Robson Silva\", \"Rua do Lago\"),\n",
    "    (\"Tânia Lima\", \"Avenida da Luz\"),\n",
    "    (\"Cláudio Nascimento\", \"Rua dos Girassóis\"),\n",
    "    (\"Simone Alves\", \"Avenida da Primavera\"),\n",
    "    (\"Eduardo Santos\", \"Rua da Paz\"),\n",
    "    (\"Patrícia Costa\", \"Avenida dos Lírios\"),\n",
    "    (\"Rodrigo Gomes\", \"Rua do Pão\"),\n",
    "    (\"Camila Almeida\", \"Avenida do Oceano\"),\n",
    "    (\"Leonardo Silva\", \"Rua da Esperança\"),\n",
    "    (\"Bruna Ferreira\", \"Avenida do Jardim\"),\n",
    "    (\"Gisele Mendes\", \"Rua das Aves\"),\n",
    "    (\"Hugo Carvalho\", \"Avenida do Futuro\"),\n",
    "    (\"Thiago Ribeiro\", \"Rua do Vale\"),\n",
    "    (\"Nina Martins\", \"Avenida das Montanhas\"),\n",
    "    (\"Murilo Costa\", \"Rua da Amizade\"),\n",
    "    (\"Rafael Andrade\", \"Avenida das Estações\"),\n",
    "    (\"Isadora Lima\", \"Rua do Sol Poente\"),\n",
    "    (\"Victor Santos\", \"Avenida do Horizonte\"),\n",
    "    (\"Cíntia Torres\", \"Rua do Amor\"),\n",
    "    (\"Vinícius Ferreira\", \"Avenida dos Melhores\"),\n",
    "    (\"Ana Paula\", \"Rua das Águas\"),\n",
    "    (\"Renan Alves\", \"Avenida do Arco-íris\")\n",
    "]\n",
    "meu_cursor.executemany(sql, valores)"
   ]
  },
  {
   "cell_type": "code",
   "execution_count": 48,
   "metadata": {},
   "outputs": [
    {
     "name": "stdout",
     "output_type": "stream",
     "text": [
      "47 40 linhas adcionadas\n"
     ]
    }
   ],
   "source": [
    "minha_conexao_mysql.commit()\n",
    "print(meu_cursor.rowcount, \"40 linhas adcionadas\")"
   ]
  },
  {
   "cell_type": "markdown",
   "metadata": {},
   "source": [
    "*EXPLICAÇÃO*\n",
    "\n",
    "select"
   ]
  },
  {
   "cell_type": "code",
   "execution_count": 51,
   "metadata": {},
   "outputs": [],
   "source": [
    "meu_cursor.execute(\"SELECT * FROM dados_pessoais\")"
   ]
  },
  {
   "cell_type": "markdown",
   "metadata": {},
   "source": [
    "*EXPLICAÇÃO*\n",
    "\n",
    "retorna todos os dados"
   ]
  },
  {
   "cell_type": "code",
   "execution_count": 52,
   "metadata": {},
   "outputs": [],
   "source": [
    "nosso_resultado = meu_cursor.fetchall()"
   ]
  },
  {
   "cell_type": "markdown",
   "metadata": {},
   "source": [
    "*EXPLICAÇÃO*\n",
    "\n",
    "print"
   ]
  },
  {
   "cell_type": "code",
   "execution_count": 53,
   "metadata": {},
   "outputs": [
    {
     "name": "stdout",
     "output_type": "stream",
     "text": [
      "('Marilia Gabriella do Nascimento Barbosa', 'Rua do Machado', None)\n",
      "('Fernando Alves', 'Avenida do Mar', None)\n",
      "('Ana Clara da Silva', 'Avenida das Flores', None)\n",
      "('Carlos Eduardo Santos', 'Rua das Palmeiras', None)\n",
      "('Fernanda Oliveira', 'Travessa da Luz', None)\n",
      "('Ricardo Lima', 'Rua do Sol', None)\n",
      "('Juliana Costa', 'Avenida Central', None)\n",
      "('Mateus Pereira', 'Rua da Liberdade', None)\n",
      "('Sofia Martins', 'Avenida da Esperança', None)\n",
      "('Gabriel Almeida', 'Rua Nova', None)\n",
      "('Isabela Ferreira', 'Avenida dos Lírios', None)\n",
      "('Lucas Rocha', 'Rua das Orquídeas', None)\n",
      "('Mariana Santos', 'Praça das Águas', None)\n",
      "('Thiago Mendes', 'Rua do Campo', None)\n",
      "('Clara Moreira', 'Avenida do Pôr do Sol', None)\n",
      "('Eduardo Dias', 'Rua das Estrelas', None)\n",
      "('Lívia Torres', 'Rua Verde', None)\n",
      "('Henrique Gomes', 'Avenida do Futuro', None)\n",
      "('Patrícia Ribeiro', 'Rua das Acácias', None)\n",
      "('Vinícius Martins', 'Avenida dos Girassóis', None)\n",
      "('Larissa Souza', 'Rua do Horizonte', None)\n",
      "('Beatriz Andrade', 'Rua dos Sabiás', None)\n",
      "('Roberto Carvalho', 'Avenida dos Jacarandás', None)\n",
      "('Julio César', 'Rua dos Pinheiros', None)\n",
      "('Ana Beatriz', 'Rua das Flores', None)\n",
      "('Marcio Silva', 'Avenida do Coração', None)\n",
      "('Gustavo Ferreira', 'Rua da Serra', None)\n",
      "('Rafaela Lima', 'Praça da Amizade', None)\n",
      "('Pedro Paulo', 'Rua do Sol Nascente', None)\n",
      "('Catarina Martins', 'Avenida da Paz', None)\n",
      "('Sérgio Mendes', 'Rua da Alegria', None)\n",
      "('Valentina Costa', 'Rua das Orquídeas', None)\n",
      "('Daniel Almeida', 'Avenida do Amor', None)\n",
      "('Tatiane Santos', 'Rua do Bosque', None)\n",
      "('Fábio Oliveira', 'Avenida do Sol', None)\n",
      "('Mariana Ribeiro', 'Rua das Palmeiras', None)\n",
      "('Luan Santos', 'Rua da Lua', None)\n",
      "('Tiago Moreira', 'Avenida da Vitória', None)\n",
      "('Natália Costa', 'Rua da Esperança', None)\n",
      "('Jorge Lima', 'Avenida dos Pássaros', None)\n",
      "('Amanda Torres', 'Rua da Independência', None)\n",
      "('Felipe Rocha', 'Avenida dos Anjos', None)\n",
      "('Cristina Mendes', 'Rua do Comércio', None)\n",
      "('Fernando Cardoso', 'Avenida dos Carvalhos', None)\n",
      "('Larissa Dias', 'Rua da Colina', None)\n",
      "('Cecília Almeida', 'Avenida do Verde', None)\n",
      "('Robson Silva', 'Rua do Lago', None)\n",
      "('Tânia Lima', 'Avenida da Luz', None)\n",
      "('Cláudio Nascimento', 'Rua dos Girassóis', None)\n",
      "('Simone Alves', 'Avenida da Primavera', None)\n",
      "('Eduardo Santos', 'Rua da Paz', None)\n",
      "('Patrícia Costa', 'Avenida dos Lírios', None)\n",
      "('Rodrigo Gomes', 'Rua do Pão', None)\n",
      "('Camila Almeida', 'Avenida do Oceano', None)\n",
      "('Leonardo Silva', 'Rua da Esperança', None)\n",
      "('Bruna Ferreira', 'Avenida do Jardim', None)\n",
      "('Gisele Mendes', 'Rua das Aves', None)\n",
      "('Hugo Carvalho', 'Avenida do Futuro', None)\n",
      "('Thiago Ribeiro', 'Rua do Vale', None)\n",
      "('Nina Martins', 'Avenida das Montanhas', None)\n",
      "('Murilo Costa', 'Rua da Amizade', None)\n",
      "('Rafael Andrade', 'Avenida das Estações', None)\n",
      "('Isadora Lima', 'Rua do Sol Poente', None)\n",
      "('Victor Santos', 'Avenida do Horizonte', None)\n",
      "('Cíntia Torres', 'Rua do Amor', None)\n",
      "('Vinícius Ferreira', 'Avenida dos Melhores', None)\n",
      "('Ana Paula', 'Rua das Águas', None)\n",
      "('Renan Alves', 'Avenida do Arco-íris', None)\n"
     ]
    }
   ],
   "source": [
    "for x in nosso_resultado:\n",
    "    print(x)"
   ]
  },
  {
   "cell_type": "markdown",
   "metadata": {},
   "source": [
    "*EXPLICAÇÃO*\n",
    "\n",
    "consulta"
   ]
  },
  {
   "cell_type": "code",
   "execution_count": 60,
   "metadata": {},
   "outputs": [],
   "source": [
    "sql = \"SELECT * FROM dados_pessoais WHERE nome = 'Vitoria'\"\n",
    "meu_cursor.execute(sql)"
   ]
  },
  {
   "cell_type": "code",
   "execution_count": 61,
   "metadata": {},
   "outputs": [],
   "source": [
    "nosso_resultado = meu_cursor.fetchall()"
   ]
  },
  {
   "cell_type": "code",
   "execution_count": 62,
   "metadata": {},
   "outputs": [],
   "source": [
    "for x in nosso_resultado:\n",
    "    print(x)"
   ]
  },
  {
   "cell_type": "code",
   "execution_count": 63,
   "metadata": {},
   "outputs": [],
   "source": [
    "sql = \"SELECT * FROM dados_pessoais WHERE nome = 'Ana'\"\n",
    "meu_cursor.execute(sql)"
   ]
  },
  {
   "cell_type": "code",
   "execution_count": 64,
   "metadata": {},
   "outputs": [],
   "source": [
    "nosso_resultado = meu_cursor.fetchall()"
   ]
  },
  {
   "cell_type": "code",
   "execution_count": 65,
   "metadata": {},
   "outputs": [],
   "source": [
    "for x in nosso_resultado:\n",
    "    print(x)"
   ]
  },
  {
   "cell_type": "markdown",
   "metadata": {},
   "source": [
    "*EXPLICAÇÃO*\n",
    "\n",
    "coringa"
   ]
  },
  {
   "cell_type": "code",
   "execution_count": 83,
   "metadata": {},
   "outputs": [],
   "source": [
    "sql = \"SELECT * FROM dados_pessoais WHERE endereco LIKE '%ua%' \"\n",
    "meu_cursor.execute(sql)"
   ]
  },
  {
   "cell_type": "code",
   "execution_count": 84,
   "metadata": {},
   "outputs": [],
   "source": [
    "nosso_resultado = meu_cursor.fetchall()"
   ]
  },
  {
   "cell_type": "code",
   "execution_count": 85,
   "metadata": {},
   "outputs": [
    {
     "name": "stdout",
     "output_type": "stream",
     "text": [
      "('Marilia Gabriella do Nascimento Barbosa', 'Rua do Machado', None)\n",
      "('Carlos Eduardo Santos', 'Rua das Palmeiras', None)\n",
      "('Ricardo Lima', 'Rua do Sol', None)\n",
      "('Mateus Pereira', 'Rua da Liberdade', None)\n",
      "('Gabriel Almeida', 'Rua Nova', None)\n",
      "('Lucas Rocha', 'Rua das Orquídeas', None)\n",
      "('Mariana Santos', 'Praça das Águas', None)\n",
      "('Thiago Mendes', 'Rua do Campo', None)\n",
      "('Eduardo Dias', 'Rua das Estrelas', None)\n",
      "('Lívia Torres', 'Rua Verde', None)\n",
      "('Patrícia Ribeiro', 'Rua das Acácias', None)\n",
      "('Larissa Souza', 'Rua do Horizonte', None)\n",
      "('Beatriz Andrade', 'Rua dos Sabiás', None)\n",
      "('Julio César', 'Rua dos Pinheiros', None)\n",
      "('Ana Beatriz', 'Rua das Flores', None)\n",
      "('Gustavo Ferreira', 'Rua da Serra', None)\n",
      "('Pedro Paulo', 'Rua do Sol Nascente', None)\n",
      "('Sérgio Mendes', 'Rua da Alegria', None)\n",
      "('Valentina Costa', 'Rua das Orquídeas', None)\n",
      "('Tatiane Santos', 'Rua do Bosque', None)\n",
      "('Mariana Ribeiro', 'Rua das Palmeiras', None)\n",
      "('Luan Santos', 'Rua da Lua', None)\n",
      "('Natália Costa', 'Rua da Esperança', None)\n",
      "('Amanda Torres', 'Rua da Independência', None)\n",
      "('Cristina Mendes', 'Rua do Comércio', None)\n",
      "('Larissa Dias', 'Rua da Colina', None)\n",
      "('Robson Silva', 'Rua do Lago', None)\n",
      "('Cláudio Nascimento', 'Rua dos Girassóis', None)\n",
      "('Eduardo Santos', 'Rua da Paz', None)\n",
      "('Rodrigo Gomes', 'Rua do Pão', None)\n",
      "('Leonardo Silva', 'Rua da Esperança', None)\n",
      "('Gisele Mendes', 'Rua das Aves', None)\n",
      "('Thiago Ribeiro', 'Rua do Vale', None)\n",
      "('Murilo Costa', 'Rua da Amizade', None)\n",
      "('Isadora Lima', 'Rua do Sol Poente', None)\n",
      "('Cíntia Torres', 'Rua do Amor', None)\n",
      "('Ana Paula', 'Rua das Águas', None)\n"
     ]
    }
   ],
   "source": [
    "for x in nosso_resultado:\n",
    "    print(x)"
   ]
  },
  {
   "cell_type": "code",
   "execution_count": 86,
   "metadata": {},
   "outputs": [],
   "source": [
    "sql = \"SELECT * FROM dados_pessoais ORDER BY nome\"\n",
    "meu_cursor.execute(sql)"
   ]
  },
  {
   "cell_type": "code",
   "execution_count": 87,
   "metadata": {},
   "outputs": [],
   "source": [
    "nosso_resultado = meu_cursor.fetchall()"
   ]
  },
  {
   "cell_type": "code",
   "execution_count": 88,
   "metadata": {},
   "outputs": [
    {
     "name": "stdout",
     "output_type": "stream",
     "text": [
      "('Amanda Torres', 'Rua da Independência', None)\n",
      "('Ana Beatriz', 'Rua das Flores', None)\n",
      "('Ana Clara da Silva', 'Avenida das Flores', None)\n",
      "('Ana Paula', 'Rua das Águas', None)\n",
      "('Beatriz Andrade', 'Rua dos Sabiás', None)\n",
      "('Bruna Ferreira', 'Avenida do Jardim', None)\n",
      "('Camila Almeida', 'Avenida do Oceano', None)\n",
      "('Carlos Eduardo Santos', 'Rua das Palmeiras', None)\n",
      "('Catarina Martins', 'Avenida da Paz', None)\n",
      "('Cecília Almeida', 'Avenida do Verde', None)\n",
      "('Cíntia Torres', 'Rua do Amor', None)\n",
      "('Clara Moreira', 'Avenida do Pôr do Sol', None)\n",
      "('Cláudio Nascimento', 'Rua dos Girassóis', None)\n",
      "('Cristina Mendes', 'Rua do Comércio', None)\n",
      "('Daniel Almeida', 'Avenida do Amor', None)\n",
      "('Eduardo Dias', 'Rua das Estrelas', None)\n",
      "('Eduardo Santos', 'Rua da Paz', None)\n",
      "('Fábio Oliveira', 'Avenida do Sol', None)\n",
      "('Felipe Rocha', 'Avenida dos Anjos', None)\n",
      "('Fernanda Oliveira', 'Travessa da Luz', None)\n",
      "('Fernando Alves', 'Avenida do Mar', None)\n",
      "('Fernando Cardoso', 'Avenida dos Carvalhos', None)\n",
      "('Gabriel Almeida', 'Rua Nova', None)\n",
      "('Gisele Mendes', 'Rua das Aves', None)\n",
      "('Gustavo Ferreira', 'Rua da Serra', None)\n",
      "('Henrique Gomes', 'Avenida do Futuro', None)\n",
      "('Hugo Carvalho', 'Avenida do Futuro', None)\n",
      "('Isabela Ferreira', 'Avenida dos Lírios', None)\n",
      "('Isadora Lima', 'Rua do Sol Poente', None)\n",
      "('Jorge Lima', 'Avenida dos Pássaros', None)\n",
      "('Juliana Costa', 'Avenida Central', None)\n",
      "('Julio César', 'Rua dos Pinheiros', None)\n",
      "('Larissa Dias', 'Rua da Colina', None)\n",
      "('Larissa Souza', 'Rua do Horizonte', None)\n",
      "('Leonardo Silva', 'Rua da Esperança', None)\n",
      "('Lívia Torres', 'Rua Verde', None)\n",
      "('Luan Santos', 'Rua da Lua', None)\n",
      "('Lucas Rocha', 'Rua das Orquídeas', None)\n",
      "('Marcio Silva', 'Avenida do Coração', None)\n",
      "('Mariana Ribeiro', 'Rua das Palmeiras', None)\n",
      "('Mariana Santos', 'Praça das Águas', None)\n",
      "('Marilia Gabriella do Nascimento Barbosa', 'Rua do Machado', None)\n",
      "('Mateus Pereira', 'Rua da Liberdade', None)\n",
      "('Murilo Costa', 'Rua da Amizade', None)\n",
      "('Natália Costa', 'Rua da Esperança', None)\n",
      "('Nina Martins', 'Avenida das Montanhas', None)\n",
      "('Patrícia Costa', 'Avenida dos Lírios', None)\n",
      "('Patrícia Ribeiro', 'Rua das Acácias', None)\n",
      "('Pedro Paulo', 'Rua do Sol Nascente', None)\n",
      "('Rafael Andrade', 'Avenida das Estações', None)\n",
      "('Rafaela Lima', 'Praça da Amizade', None)\n",
      "('Renan Alves', 'Avenida do Arco-íris', None)\n",
      "('Ricardo Lima', 'Rua do Sol', None)\n",
      "('Roberto Carvalho', 'Avenida dos Jacarandás', None)\n",
      "('Robson Silva', 'Rua do Lago', None)\n",
      "('Rodrigo Gomes', 'Rua do Pão', None)\n",
      "('Sérgio Mendes', 'Rua da Alegria', None)\n",
      "('Simone Alves', 'Avenida da Primavera', None)\n",
      "('Sofia Martins', 'Avenida da Esperança', None)\n",
      "('Tânia Lima', 'Avenida da Luz', None)\n",
      "('Tatiane Santos', 'Rua do Bosque', None)\n",
      "('Thiago Mendes', 'Rua do Campo', None)\n",
      "('Thiago Ribeiro', 'Rua do Vale', None)\n",
      "('Tiago Moreira', 'Avenida da Vitória', None)\n",
      "('Valentina Costa', 'Rua das Orquídeas', None)\n",
      "('Victor Santos', 'Avenida do Horizonte', None)\n",
      "('Vinícius Ferreira', 'Avenida dos Melhores', None)\n",
      "('Vinícius Martins', 'Avenida dos Girassóis', None)\n"
     ]
    }
   ],
   "source": [
    "for x in nosso_resultado:\n",
    "    print(x)"
   ]
  },
  {
   "cell_type": "code",
   "execution_count": 90,
   "metadata": {},
   "outputs": [],
   "source": [
    "sql = \"SELECT * FROM dados_pessoais ORDER BY nome DESC\"\n",
    "meu_cursor.execute(sql)"
   ]
  },
  {
   "cell_type": "code",
   "execution_count": 91,
   "metadata": {},
   "outputs": [],
   "source": [
    "nosso_resultado = meu_cursor.fetchall()"
   ]
  },
  {
   "cell_type": "code",
   "execution_count": 92,
   "metadata": {},
   "outputs": [
    {
     "name": "stdout",
     "output_type": "stream",
     "text": [
      "('Vinícius Martins', 'Avenida dos Girassóis', None)\n",
      "('Vinícius Ferreira', 'Avenida dos Melhores', None)\n",
      "('Victor Santos', 'Avenida do Horizonte', None)\n",
      "('Valentina Costa', 'Rua das Orquídeas', None)\n",
      "('Tiago Moreira', 'Avenida da Vitória', None)\n",
      "('Thiago Ribeiro', 'Rua do Vale', None)\n",
      "('Thiago Mendes', 'Rua do Campo', None)\n",
      "('Tatiane Santos', 'Rua do Bosque', None)\n",
      "('Tânia Lima', 'Avenida da Luz', None)\n",
      "('Sofia Martins', 'Avenida da Esperança', None)\n",
      "('Simone Alves', 'Avenida da Primavera', None)\n",
      "('Sérgio Mendes', 'Rua da Alegria', None)\n",
      "('Rodrigo Gomes', 'Rua do Pão', None)\n",
      "('Robson Silva', 'Rua do Lago', None)\n",
      "('Roberto Carvalho', 'Avenida dos Jacarandás', None)\n",
      "('Ricardo Lima', 'Rua do Sol', None)\n",
      "('Renan Alves', 'Avenida do Arco-íris', None)\n",
      "('Rafaela Lima', 'Praça da Amizade', None)\n",
      "('Rafael Andrade', 'Avenida das Estações', None)\n",
      "('Pedro Paulo', 'Rua do Sol Nascente', None)\n",
      "('Patrícia Ribeiro', 'Rua das Acácias', None)\n",
      "('Patrícia Costa', 'Avenida dos Lírios', None)\n",
      "('Nina Martins', 'Avenida das Montanhas', None)\n",
      "('Natália Costa', 'Rua da Esperança', None)\n",
      "('Murilo Costa', 'Rua da Amizade', None)\n",
      "('Mateus Pereira', 'Rua da Liberdade', None)\n",
      "('Marilia Gabriella do Nascimento Barbosa', 'Rua do Machado', None)\n",
      "('Mariana Santos', 'Praça das Águas', None)\n",
      "('Mariana Ribeiro', 'Rua das Palmeiras', None)\n",
      "('Marcio Silva', 'Avenida do Coração', None)\n",
      "('Lucas Rocha', 'Rua das Orquídeas', None)\n",
      "('Luan Santos', 'Rua da Lua', None)\n",
      "('Lívia Torres', 'Rua Verde', None)\n",
      "('Leonardo Silva', 'Rua da Esperança', None)\n",
      "('Larissa Souza', 'Rua do Horizonte', None)\n",
      "('Larissa Dias', 'Rua da Colina', None)\n",
      "('Julio César', 'Rua dos Pinheiros', None)\n",
      "('Juliana Costa', 'Avenida Central', None)\n",
      "('Jorge Lima', 'Avenida dos Pássaros', None)\n",
      "('Isadora Lima', 'Rua do Sol Poente', None)\n",
      "('Isabela Ferreira', 'Avenida dos Lírios', None)\n",
      "('Hugo Carvalho', 'Avenida do Futuro', None)\n",
      "('Henrique Gomes', 'Avenida do Futuro', None)\n",
      "('Gustavo Ferreira', 'Rua da Serra', None)\n",
      "('Gisele Mendes', 'Rua das Aves', None)\n",
      "('Gabriel Almeida', 'Rua Nova', None)\n",
      "('Fernando Cardoso', 'Avenida dos Carvalhos', None)\n",
      "('Fernando Alves', 'Avenida do Mar', None)\n",
      "('Fernanda Oliveira', 'Travessa da Luz', None)\n",
      "('Felipe Rocha', 'Avenida dos Anjos', None)\n",
      "('Fábio Oliveira', 'Avenida do Sol', None)\n",
      "('Eduardo Santos', 'Rua da Paz', None)\n",
      "('Eduardo Dias', 'Rua das Estrelas', None)\n",
      "('Daniel Almeida', 'Avenida do Amor', None)\n",
      "('Cristina Mendes', 'Rua do Comércio', None)\n",
      "('Cláudio Nascimento', 'Rua dos Girassóis', None)\n",
      "('Clara Moreira', 'Avenida do Pôr do Sol', None)\n",
      "('Cíntia Torres', 'Rua do Amor', None)\n",
      "('Cecília Almeida', 'Avenida do Verde', None)\n",
      "('Catarina Martins', 'Avenida da Paz', None)\n",
      "('Carlos Eduardo Santos', 'Rua das Palmeiras', None)\n",
      "('Camila Almeida', 'Avenida do Oceano', None)\n",
      "('Bruna Ferreira', 'Avenida do Jardim', None)\n",
      "('Beatriz Andrade', 'Rua dos Sabiás', None)\n",
      "('Ana Paula', 'Rua das Águas', None)\n",
      "('Ana Clara da Silva', 'Avenida das Flores', None)\n",
      "('Ana Beatriz', 'Rua das Flores', None)\n",
      "('Amanda Torres', 'Rua da Independência', None)\n"
     ]
    }
   ],
   "source": [
    "for x in nosso_resultado:\n",
    "    print(x)"
   ]
  }
 ],
 "metadata": {
  "kernelspec": {
   "display_name": "Python 3",
   "language": "python",
   "name": "python3"
  },
  "language_info": {
   "codemirror_mode": {
    "name": "ipython",
    "version": 3
   },
   "file_extension": ".py",
   "mimetype": "text/x-python",
   "name": "python",
   "nbconvert_exporter": "python",
   "pygments_lexer": "ipython3",
   "version": "3.12.1"
  }
 },
 "nbformat": 4,
 "nbformat_minor": 2
}
